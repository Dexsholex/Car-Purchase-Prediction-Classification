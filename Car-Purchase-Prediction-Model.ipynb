{
 "cells": [
  {
   "cell_type": "markdown",
   "metadata": {},
   "source": [
    "# Business objective"
   ]
  },
  {
   "cell_type": "markdown",
   "metadata": {},
   "source": [
    "The model predicts if a prospective client will purchase a car or not. This model predict the probability of a client purchasing a car using the client features such as gender, age, and annual salary. The model can support businesses to find out if their client will purchase a car or not."
   ]
  },
  {
   "cell_type": "markdown",
   "metadata": {},
   "source": [
    "## Import necessary Python Packages"
   ]
  },
  {
   "cell_type": "code",
   "execution_count": null,
   "metadata": {},
   "outputs": [],
   "source": [
    "# import libraries\n",
    "import pandas as pd\n",
    "import numpy as np\n",
    "import matplotlib.pyplot as plt\n",
    "import seaborn as sns\n",
    "from sklearn.preprocessing import OneHotEncoder\n",
    "from sklearn.preprocessing import StandardScaler\n",
    "from sklearn import model_selection\n",
    "from sklearn.linear_model import LogisticRegression\n",
    "from sklearn.model_selection import train_test_split\n",
    "from sklearn import metrics\n",
    "from sklearn.metrics import classification_report\n",
    "from sklearn.metrics import confusion_matrix\n",
    "import missingno as msno\n",
    "\n",
    "%matplotlib inline"
   ]
  },
  {
   "cell_type": "markdown",
   "metadata": {},
   "source": [
    "## Get the data"
   ]
  },
  {
   "cell_type": "markdown",
   "metadata": {},
   "source": [
    "### Import the Dataset"
   ]
  },
  {
   "cell_type": "code",
   "execution_count": null,
   "metadata": {},
   "outputs": [],
   "source": [
    "# load the dataset\n",
    "car_data = pd.read_csv('car_data.csv')\n",
    "car_data.head()"
   ]
  },
  {
   "cell_type": "markdown",
   "metadata": {},
   "source": [
    "## Explore the Dataset"
   ]
  },
  {
   "cell_type": "code",
   "execution_count": null,
   "metadata": {},
   "outputs": [],
   "source": [
    "# dataset info\n",
    "car_data.info()"
   ]
  },
  {
   "cell_type": "code",
   "execution_count": null,
   "metadata": {},
   "outputs": [],
   "source": [
    "# dataset dimension\n",
    "print(\"There are {} rows and {} columns in the dataset.\".format(car_data.shape[0], car_data.shape[1]))"
   ]
  },
  {
   "cell_type": "code",
   "execution_count": null,
   "metadata": {},
   "outputs": [],
   "source": [
    "# check the columns\n",
    "car_data.columns"
   ]
  },
  {
   "cell_type": "code",
   "execution_count": null,
   "metadata": {},
   "outputs": [],
   "source": [
    "# drop the User ID column.\n",
    "car_data.drop(columns=['User ID'], inplace=True)"
   ]
  },
  {
   "cell_type": "code",
   "execution_count": null,
   "metadata": {},
   "outputs": [],
   "source": [
    "# summary statistics\n",
    "car_data.describe().transpose()"
   ]
  },
  {
   "cell_type": "code",
   "execution_count": null,
   "metadata": {},
   "outputs": [],
   "source": [
    "# correlation between the variables\n",
    "car_data.corr()"
   ]
  },
  {
   "cell_type": "code",
   "execution_count": null,
   "metadata": {},
   "outputs": [],
   "source": [
    "sns.heatmap(car_data.corr(), annot=True);"
   ]
  },
  {
   "cell_type": "markdown",
   "metadata": {},
   "source": [
    "The closer the value to 1, the stronger the correlation between the variables."
   ]
  },
  {
   "cell_type": "code",
   "execution_count": null,
   "metadata": {},
   "outputs": [],
   "source": [
    "# check for missing rows\n",
    "car_data.isnull().sum()"
   ]
  },
  {
   "cell_type": "code",
   "execution_count": null,
   "metadata": {},
   "outputs": [],
   "source": [
    "msno.matrix(car_data)\n",
    "plt.show()"
   ]
  },
  {
   "cell_type": "code",
   "execution_count": null,
   "metadata": {},
   "outputs": [],
   "source": [
    "msno.bar(car_data)\n",
    "plt.show()"
   ]
  },
  {
   "cell_type": "markdown",
   "metadata": {},
   "source": [
    "The above plots showed that there is no missing values in the dataset."
   ]
  },
  {
   "cell_type": "markdown",
   "metadata": {},
   "source": [
    "## Functions to explore each feature"
   ]
  },
  {
   "cell_type": "code",
   "execution_count": null,
   "metadata": {},
   "outputs": [],
   "source": [
    "# function that will return value count and frequency for each observation within a feature\n",
    "def value_cnt_norm_cal(df,feature):\n",
    "    ftr_value_cnt = df[feature].value_counts()\n",
    "    ftr_value_cnt_norm = df[feature].value_counts(normalize=True) * 100\n",
    "    ftr_value_cnt_concat = pd.concat([ftr_value_cnt, ftr_value_cnt_norm], axis=1)\n",
    "    ftr_value_cnt_concat.columns = ['Count', 'Frequency (%)']\n",
    "    return ftr_value_cnt_concat"
   ]
  },
  {
   "cell_type": "code",
   "execution_count": null,
   "metadata": {},
   "outputs": [],
   "source": [
    "# function to display information about the feature\n",
    "def gen_info_feat(df,feature):\n",
    "        match feature:\n",
    "            case 'Age':\n",
    "                print('Description:\\n{}'.format(df[feature].describe()))\n",
    "                print('*'*50)\n",
    "                print('Object type:\\n{}'.format(df[feature].dtype))\n",
    "            case _:    \n",
    "                print('Description:\\n{}'.format(df[feature].describe()))\n",
    "                print('*'*50)\n",
    "                print('Object type:\\n{}'.format(df[feature].dtype))\n",
    "                print('*'*50)\n",
    "                value_cnt = value_cnt_norm_cal(df,feature)\n",
    "                print('Value count:\\n{}'.format(value_cnt))"
   ]
  },
  {
   "cell_type": "code",
   "execution_count": null,
   "metadata": {},
   "outputs": [],
   "source": [
    "# function to create a pie chart plot\n",
    "def create_pie_plot(df, feature):\n",
    "    ratio_size = value_cnt_norm_cal(df, feature)\n",
    "    ratio_size_len = len(ratio_size.index)\n",
    "    ratio_list = []\n",
    "    for i in range(ratio_size_len):\n",
    "        ratio_list.append(ratio_size.iloc[i]['Frequency (%)'])\n",
    "    fig, ax = plt.subplots(figsize=(8,8))\n",
    "    # %1.2f%% display decimals in the pie chart with 2 decimal places\n",
    "    plt.pie(ratio_list, labels=ratio_size.index, autopct='%1.2f%%', startangle=90, wedgeprops={'edgecolor' :'black'})\n",
    "    plt.title('Pie chart of {}'.format(feature), fontsize=20)\n",
    "    plt.legend(loc='best')\n",
    "    plt.axis('equal')\n",
    "    return plt.show()"
   ]
  },
  {
   "cell_type": "code",
   "execution_count": null,
   "metadata": {},
   "outputs": [],
   "source": [
    "# function to create a bar chart plot \n",
    "def create_bar_plot(df, feature):\n",
    "    fig, ax  = plt.subplots(figsize=(6,10))\n",
    "    sns.set_theme(style='whitegrid')\n",
    "    sns.barplot(x=value_cnt_norm_cal(df, feature).index, y=value_cnt_norm_cal(df,feature).values[:,0])\n",
    "    plt.xlabel('{}'.format(feature))\n",
    "    plt.ylabel('Count')\n",
    "    plt.title('{} count'.format(feature), fontsize=20)\n",
    "    return plt.show()"
   ]
  },
  {
   "cell_type": "code",
   "execution_count": null,
   "metadata": {},
   "outputs": [],
   "source": [
    "# create to create a box plot\n",
    "def create_box_plot(df, feature):\n",
    "    fig, ax = plt.subplots(figsize=(2,8))\n",
    "    sns.set_theme(style='whitegrid')\n",
    "    sns.boxplot(y=df[feature])\n",
    "    plt.title('{} distribution(Boxplot)'.format(feature), fontsize=20)\n",
    "    return plt.show()"
   ]
  },
  {
   "cell_type": "code",
   "execution_count": null,
   "metadata": {},
   "outputs": [],
   "source": [
    "# function to create a histogram plot\n",
    "def create_hist_plot(df, feature, the_bins=50):\n",
    "    fig, ax = plt.subplots(figsize=(18,10))\n",
    "    sns.set_theme(style='whitegrid')\n",
    "    sns.histplot(df[feature], bins=the_bins, kde=True)\n",
    "    plt.title('{} distribution'.format(feature), fontsize=20)\n",
    "    return plt.show()"
   ]
  },
  {
   "cell_type": "code",
   "execution_count": null,
   "metadata": {},
   "outputs": [],
   "source": [
    "# purchase vs non_purchase individuals compared on a box plot\n",
    "def purchase_nonpurchase_box_plot(df, feature):\n",
    "    print(df.groupby('Purchased')[feature].mean())\n",
    "    fig, ax = plt.subplots(figsize=(5,8))\n",
    "    sns.set_theme(style='whitegrid')\n",
    "    sns.boxplot(y=df[feature], x=df['Purchased'])\n",
    "    plt.xticks(ticks=[0,1], labels=['no', 'yes'])\n",
    "    plt.title('Purchase individuals grouped by {}'.format(feature), fontsize=20)\n",
    "    return plt.show()"
   ]
  },
  {
   "cell_type": "code",
   "execution_count": null,
   "metadata": {},
   "outputs": [],
   "source": [
    "# purchase vs non_purchase individuals compared on a bar plot\n",
    "def purchase_nonpurchase_bar_plot(df, feature):\n",
    "    purchase_grp = df.groupby(feature)['Purchased'].sum()\n",
    "    purchase_grp_srt = purchase_grp.sort_values(ascending=False)\n",
    "    print(dict(purchase_grp_srt))\n",
    "    fig, ax = plt.subplots(figsize=(6,10))\n",
    "    sns.set_theme(style='whitegrid')\n",
    "    sns.barplot(x=purchase_grp_srt.index, y=purchase_grp_srt.values)\n",
    "    ax.set_xticklabels(labels=purchase_grp_srt.index, ha='right')\n",
    "    plt.ylabel('Count')\n",
    "    plt.title('Purchase individuals count grouped by {}'.format(feature), fontsize=20)\n",
    "    return plt.show()"
   ]
  },
  {
   "cell_type": "markdown",
   "metadata": {},
   "source": [
    "## Univariate Analysis"
   ]
  },
  {
   "cell_type": "markdown",
   "metadata": {},
   "source": [
    "### Gender"
   ]
  },
  {
   "cell_type": "code",
   "execution_count": null,
   "metadata": {},
   "outputs": [],
   "source": [
    "gen_info_feat(car_data, 'Gender')"
   ]
  },
  {
   "cell_type": "code",
   "execution_count": null,
   "metadata": {},
   "outputs": [],
   "source": [
    "create_bar_plot(car_data, 'Gender')"
   ]
  },
  {
   "cell_type": "code",
   "execution_count": null,
   "metadata": {},
   "outputs": [],
   "source": [
    "create_pie_plot(car_data, 'Gender')"
   ]
  },
  {
   "cell_type": "markdown",
   "metadata": {},
   "source": [
    "Interpretation:\n",
    "* We have more females clients than male (52%, 48%)"
   ]
  },
  {
   "cell_type": "code",
   "execution_count": null,
   "metadata": {},
   "outputs": [],
   "source": [
    "purchase_nonpurchase_bar_plot(car_data, 'Gender')"
   ]
  },
  {
   "cell_type": "markdown",
   "metadata": {},
   "source": [
    "### Age"
   ]
  },
  {
   "cell_type": "code",
   "execution_count": null,
   "metadata": {},
   "outputs": [],
   "source": [
    "gen_info_feat(car_data, 'Age')"
   ]
  },
  {
   "cell_type": "code",
   "execution_count": null,
   "metadata": {},
   "outputs": [],
   "source": [
    "create_hist_plot(car_data, 'Age')"
   ]
  },
  {
   "cell_type": "code",
   "execution_count": null,
   "metadata": {},
   "outputs": [],
   "source": [
    "create_box_plot(car_data, 'Age')"
   ]
  },
  {
   "cell_type": "code",
   "execution_count": null,
   "metadata": {},
   "outputs": [],
   "source": [
    "purchase_nonpurchase_box_plot(car_data, 'Age')"
   ]
  },
  {
   "cell_type": "markdown",
   "metadata": {},
   "source": [
    "Interpretation:\n",
    "* The youngest client is 18 years while the oldest is 68 years old, with average of 40 years old.\n",
    "* The average age of clients who purchased a car is 48 years while the average age of clients who didn't purchase a car is 35 years old, with the average age difference of 13 years."
   ]
  },
  {
   "cell_type": "markdown",
   "metadata": {},
   "source": [
    "### Annual Salary"
   ]
  },
  {
   "cell_type": "code",
   "execution_count": null,
   "metadata": {},
   "outputs": [],
   "source": [
    "gen_info_feat(car_data, 'AnnualSalary')"
   ]
  },
  {
   "cell_type": "code",
   "execution_count": null,
   "metadata": {},
   "outputs": [],
   "source": [
    "create_hist_plot(car_data, 'AnnualSalary')"
   ]
  },
  {
   "cell_type": "code",
   "execution_count": null,
   "metadata": {},
   "outputs": [],
   "source": [
    "create_box_plot(car_data, 'AnnualSalary')"
   ]
  },
  {
   "cell_type": "code",
   "execution_count": null,
   "metadata": {},
   "outputs": [],
   "source": [
    "purchase_nonpurchase_box_plot(car_data, 'AnnualSalary')"
   ]
  },
  {
   "cell_type": "markdown",
   "metadata": {},
   "source": [
    "Interpretation:\n",
    "* The clients minimun Annual salary is 15,000 and the maximum value of 152,500.\n",
    "* The average Annual salary of clients who purchased a car is 88,034 while the average of clients who didn't purchase is 62,374"
   ]
  },
  {
   "cell_type": "markdown",
   "metadata": {},
   "source": [
    "## Bivariate Analysis"
   ]
  },
  {
   "cell_type": "markdown",
   "metadata": {},
   "source": [
    "### Numerical vs Numerical Features (Correlation & Scatter Plots)"
   ]
  },
  {
   "cell_type": "markdown",
   "metadata": {},
   "source": [
    "### Scatter Plots"
   ]
  },
  {
   "cell_type": "code",
   "execution_count": null,
   "metadata": {},
   "outputs": [],
   "source": [
    "sns.pairplot(car_data[['Age', 'AnnualSalary']], corner=True)\n",
    "plt.show()"
   ]
  },
  {
   "cell_type": "code",
   "execution_count": null,
   "metadata": {},
   "outputs": [],
   "source": [
    "sns.regplot(x='Age', y='AnnualSalary',data=car_data, line_kws={'color': 'red'})\n",
    "plt.show()"
   ]
  },
  {
   "cell_type": "markdown",
   "metadata": {},
   "source": [
    "Interpretation:\n",
    "* The Age and Annual salary are not correlated. "
   ]
  },
  {
   "cell_type": "markdown",
   "metadata": {},
   "source": [
    "### Correlation analysis"
   ]
  },
  {
   "cell_type": "code",
   "execution_count": null,
   "metadata": {},
   "outputs": [],
   "source": [
    "# correlation analysis with heatmap, after dropping the has a mobile phone with the target feature as int\n",
    "car_data_corr_no_gender = pd.concat([car_data.drop(['Gender','Purchased'], axis=1), car_data['Purchased']],axis=1).corr()\n",
    "# Get the lower triangle of the correlation matrix\n",
    "# Generate a mask for the upper triangle\n",
    "mask = np.zeros_like(car_data_corr_no_gender, dtype='bool')\n",
    "mask[np.triu_indices_from(mask)] = True\n",
    "# Set up the matplotlib figure\n",
    "fig, ax = plt.subplots(figsize=(18,10))\n",
    "# seaborn heatmap\n",
    "sns.heatmap(car_data_corr_no_gender, annot=True, cmap='flare',mask=mask, linewidths=.5)\n",
    "# plot the heatmap\n",
    "plt.show()"
   ]
  },
  {
   "cell_type": "markdown",
   "metadata": {},
   "source": [
    "Interpretation:\n",
    "* The age is highly correlated with the target feature(purchased). The older the clients is, the most likely of purchasing a car.\n",
    "* Annual salary has some correlation with the target feature(purchased). The higher the annual salary the higher the chances of purchasing a car."
   ]
  },
  {
   "cell_type": "markdown",
   "metadata": {},
   "source": [
    "## Business findings from the EDA."
   ]
  },
  {
   "cell_type": "markdown",
   "metadata": {},
   "source": [
    "* **Typical profile of a prospective clients is: a Female, 40 years of age with annual salary of 72,000**.\n",
    "* **Most clients are 32 to 48 years old**."
   ]
  },
  {
   "cell_type": "markdown",
   "metadata": {},
   "source": [
    "## Prepare the data"
   ]
  },
  {
   "cell_type": "markdown",
   "metadata": {},
   "source": [
    "### One hot encoding for Gender."
   ]
  },
  {
   "cell_type": "code",
   "execution_count": null,
   "metadata": {},
   "outputs": [],
   "source": [
    "one_hot_enc = OneHotEncoder()\n",
    "one_hot_enc_gender = pd.DataFrame(one_hot_enc.fit_transform(car_data[['Gender']]).toarray())\n",
    "car_data = car_data.join(one_hot_enc_gender)\n",
    "car_data = car_data.rename(columns={0:'Gender_F', 1:'Gender_M'})\n",
    "car_data"
   ]
  },
  {
   "cell_type": "code",
   "execution_count": null,
   "metadata": {},
   "outputs": [],
   "source": [
    "car_data.shape"
   ]
  },
  {
   "cell_type": "markdown",
   "metadata": {},
   "source": [
    "## Build the Model"
   ]
  },
  {
   "cell_type": "code",
   "execution_count": null,
   "metadata": {},
   "outputs": [],
   "source": [
    "# split the train data into X and y (target)\n",
    "X = car_data[['Age', 'AnnualSalary', 'Gender_F', 'Gender_M']]  # independent features\n",
    "Y = car_data['Purchased']                                      # dependent feature"
   ]
  },
  {
   "cell_type": "code",
   "execution_count": null,
   "metadata": {},
   "outputs": [],
   "source": [
    "# split the dataset into train and test\n",
    "X_train, X_test, y_train, y_test = train_test_split(X,Y, test_size=0.4, random_state=100)"
   ]
  },
  {
   "cell_type": "markdown",
   "metadata": {},
   "source": [
    "## Feature Scaling"
   ]
  },
  {
   "cell_type": "code",
   "execution_count": null,
   "metadata": {},
   "outputs": [],
   "source": [
    "sc = StandardScaler()\n",
    "X_train = sc.fit_transform(X_train)\n",
    "X_test = sc.transform(X_test)"
   ]
  },
  {
   "cell_type": "code",
   "execution_count": null,
   "metadata": {},
   "outputs": [],
   "source": [
    "# fit Logistic Regression\n",
    "classifier = LogisticRegression()\n",
    "classifier.fit(X_train, y_train)"
   ]
  },
  {
   "cell_type": "code",
   "execution_count": null,
   "metadata": {},
   "outputs": [],
   "source": [
    "# predict likelihood of purchase.\n",
    "y_pred = classifier.predict(X_test)"
   ]
  },
  {
   "cell_type": "markdown",
   "metadata": {},
   "source": [
    "## Evaluate the Model's Performance"
   ]
  },
  {
   "cell_type": "markdown",
   "metadata": {},
   "source": [
    "### Classification Report"
   ]
  },
  {
   "cell_type": "code",
   "execution_count": null,
   "metadata": {},
   "outputs": [],
   "source": [
    "print('Acurracy: {}'.format(metrics.accuracy_score(y_test, y_pred)))\n",
    "print('Recall: {}'.format(metrics.recall_score(y_test, y_pred, zero_division=1)))\n",
    "print('Precision: {}'.format(metrics.precision_score(y_test, y_pred, zero_division=1)))\n",
    "print('CL Report: {}'.format(metrics.classification_report(y_test, y_pred, zero_division=1)))"
   ]
  },
  {
   "cell_type": "markdown",
   "metadata": {},
   "source": [
    "* Accuracy is the score used to evaluate the model's performance. The higher it is, the better.\n",
    "* Recall measures the model's ability to correctly predict the true positive values.\n",
    "* Precision is the ratio of true positives to the sum of both true and false positives.\n",
    "* F-Score combines precision and recall into one metric. Ideally, its value should be closeest to 1, the better.\n",
    "* Support is the number of actual occurences of each class in the dataset."
   ]
  },
  {
   "cell_type": "markdown",
   "metadata": {},
   "source": [
    "## The model's performance in percent:\n",
    "* Accuracy: 81%\n",
    "* Recall: 69%\n",
    "* Precision: 79%\n",
    "\n",
    "\n",
    "We can safely conclude that this model predicted the likelihood of car purchase well."
   ]
  },
  {
   "cell_type": "markdown",
   "metadata": {},
   "source": [
    "## Confusion Matrix"
   ]
  },
  {
   "cell_type": "code",
   "execution_count": null,
   "metadata": {},
   "outputs": [],
   "source": [
    "cm = confusion_matrix(y_test, y_pred)"
   ]
  },
  {
   "cell_type": "code",
   "execution_count": null,
   "metadata": {},
   "outputs": [],
   "source": [
    "def plot_confusion_matrix(cm, target_names, title='Confusion matric', cmap=plt.cm.summer):\n",
    "    plt.clf\n",
    "    plt.imshow(cm, interpolation='nearest')\n",
    "    plt.title(title)\n",
    "    plt.colorbar()\n",
    "    tick_marks = np.arange(len(target_names))\n",
    "    plt.xticks(tick_marks, target_names)\n",
    "    plt.yticks(tick_marks, target_names)\n",
    "    plt.tight_layout()\n",
    "    \n",
    "    width, height = cm.shape\n",
    "    \n",
    "    for x in range(width):\n",
    "        for y in range(height):\n",
    "            plt.annotate(str(cm[x][y]), xy=(y,x), \n",
    "                        horizontalalignment='center',\n",
    "                        verticalalignment='center', \n",
    "                        color='red', fontsize=22)\n",
    "            plt.ylabel('True Label')\n",
    "            plt.xlabel('Predicted Label')"
   ]
  },
  {
   "cell_type": "code",
   "execution_count": null,
   "metadata": {},
   "outputs": [],
   "source": [
    "plot_confusion_matrix(cm, np.unique(y_pred))"
   ]
  },
  {
   "cell_type": "markdown",
   "metadata": {},
   "source": [
    "* The confusion matrix showing that indeed **216 correct prediction** of the **class 0** (meaning the clients of the test who didn't purchase the car).\n",
    "* **108 correct predictions** of the **class 1** (meaning correct predictions of the clients who purchased the car). \n",
    "* **28 incorrect predictions** of the **class 1** (meaning 28 incorrect predictions of the clients who in reality bought a car but were predicted not to).\n",
    "* **48 incorrect predictions** of the **class 0** (meaning 48 clients who in reality didn't buy the car but were predicted to buy)"
   ]
  },
  {
   "cell_type": "markdown",
   "metadata": {},
   "source": [
    "## ROC Curve"
   ]
  },
  {
   "cell_type": "code",
   "execution_count": null,
   "metadata": {},
   "outputs": [],
   "source": [
    "# To determine the ROC Curve, First define the metrics.\n",
    "y_pred_proba = classifier.predict_proba(X_test) [::, 1]"
   ]
  },
  {
   "cell_type": "code",
   "execution_count": null,
   "metadata": {},
   "outputs": [],
   "source": [
    "# Calculate the true positive and false psositive rates\n",
    "false_positive_rate, true_positive_rate, _ = metrics.roc_curve(y_test, y_pred_proba)"
   ]
  },
  {
   "cell_type": "code",
   "execution_count": null,
   "metadata": {},
   "outputs": [],
   "source": [
    "# Calculate the AUC to see the model's performance\n",
    "auc = metrics.roc_auc_score(y_test, y_pred_proba)"
   ]
  },
  {
   "cell_type": "code",
   "execution_count": null,
   "metadata": {},
   "outputs": [],
   "source": [
    "# Plot the ROC Curve.\n",
    "plt.plot(false_positive_rate, true_positive_rate, label='AUC=' + str(auc))\n",
    "plt.title('ROC Curve')\n",
    "plt.xlabel('False Positive Rate')\n",
    "plt.ylabel('True Positive Rate')\n",
    "plt.legend(loc=4);"
   ]
  },
  {
   "cell_type": "markdown",
   "metadata": {},
   "source": [
    "### The AUC is 0.91, meaning that the model did a great job\n"
   ]
  },
  {
   "cell_type": "markdown",
   "metadata": {},
   "source": [
    "\n",
    "The receiver operating characteristic (ROC) curve is used to display the sensitivity and specificity of the logistic regression model by calculating the true positive and false positive rates.\n",
    "\n",
    "From the ROC curve, we can calculate the area under the curve (AUC) whose value ranges from 0 to 1. You’ll remember that the closer to 1, the better it is for our predictive modeling."
   ]
  },
  {
   "cell_type": "code",
   "execution_count": null,
   "metadata": {},
   "outputs": [],
   "source": []
  }
 ],
 "metadata": {
  "kernelspec": {
   "display_name": "Python [conda env:ml_env]",
   "language": "python",
   "name": "conda-env-ml_env-py"
  },
  "language_info": {
   "codemirror_mode": {
    "name": "ipython",
    "version": 3
   },
   "file_extension": ".py",
   "mimetype": "text/x-python",
   "name": "python",
   "nbconvert_exporter": "python",
   "pygments_lexer": "ipython3",
   "version": "3.10.4"
  }
 },
 "nbformat": 4,
 "nbformat_minor": 4
}
